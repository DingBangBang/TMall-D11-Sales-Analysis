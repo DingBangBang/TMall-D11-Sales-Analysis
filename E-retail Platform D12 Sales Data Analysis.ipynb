{
 "cells": [
  {
   "cell_type": "code",
   "execution_count": 2,
   "id": "polished-wound",
   "metadata": {},
   "outputs": [],
   "source": [
    "import pandas as pd\n",
    "import numpy as np\n",
    "import jieba"
   ]
  },
  {
   "cell_type": "code",
   "execution_count": 3,
   "id": "adjacent-education",
   "metadata": {},
   "outputs": [],
   "source": [
    "data=pd.read_csv(r'F:\\Test\\2019-Dec.csv')"
   ]
  },
  {
   "cell_type": "markdown",
   "id": "biological-performance",
   "metadata": {},
   "source": [
    "### 总观数据"
   ]
  },
  {
   "cell_type": "code",
   "execution_count": 4,
   "id": "moved-beatles",
   "metadata": {},
   "outputs": [
    {
     "name": "stdout",
     "output_type": "stream",
     "text": [
      "                event_time        event_type  product_id          category_id  \\\n",
      "0  2019-12-01 00:00:00 UTC  remove_from_cart     5712790  1487580005268456287   \n",
      "1  2019-12-01 00:00:00 UTC              view     5764655  1487580005411062629   \n",
      "2  2019-12-01 00:00:02 UTC              cart        4958  1487580009471148064   \n",
      "3  2019-12-01 00:00:05 UTC              view     5848413  1487580007675986893   \n",
      "4  2019-12-01 00:00:07 UTC              view     5824148  1487580005511725929   \n",
      "\n",
      "  category_code      brand  price    user_id  \\\n",
      "0           NaN      f.o.x   6.27  576802932   \n",
      "1           NaN        cnd  29.05  412120092   \n",
      "2           NaN     runail   1.19  494077766   \n",
      "3           NaN  freedecor   0.79  348405118   \n",
      "4           NaN        NaN   5.56  576005683   \n",
      "\n",
      "                           user_session  \n",
      "0  51d85cb0-897f-48d2-918b-ad63965c12dc  \n",
      "1  8adff31e-2051-4894-9758-224bfa8aec18  \n",
      "2  c99a50e8-2fac-4c4d-89ec-41c05f114554  \n",
      "3  722ffea5-73c0-4924-8e8f-371ff8031af4  \n",
      "4  28172809-7e4a-45ce-bab0-5efa90117cd5  \n",
      "(3533286, 9)\n",
      "<class 'pandas.core.frame.DataFrame'>\n",
      "RangeIndex: 3533286 entries, 0 to 3533285\n",
      "Data columns (total 9 columns):\n",
      " #   Column         Dtype  \n",
      "---  ------         -----  \n",
      " 0   event_time     object \n",
      " 1   event_type     object \n",
      " 2   product_id     int64  \n",
      " 3   category_id    int64  \n",
      " 4   category_code  object \n",
      " 5   brand          object \n",
      " 6   price          float64\n",
      " 7   user_id        int64  \n",
      " 8   user_session   object \n",
      "dtypes: float64(1), int64(3), object(5)\n",
      "memory usage: 242.6+ MB\n",
      "None\n"
     ]
    }
   ],
   "source": [
    "print(data.head())\n",
    "print(data.shape)\n",
    "print(data.info())"
   ]
  },
  {
   "cell_type": "markdown",
   "id": "metallic-apparel",
   "metadata": {},
   "source": [
    "### 统计各维度的基本流量指标"
   ]
  },
  {
   "cell_type": "code",
   "execution_count": 5,
   "id": "differential-advancement",
   "metadata": {},
   "outputs": [
    {
     "name": "stdout",
     "output_type": "stream",
     "text": [
      "527021202    8689\n",
      "572631412    3883\n",
      "467810091    3147\n",
      "548810441    2426\n",
      "584289031    2356\n",
      "             ... \n",
      "417569132       1\n",
      "593717618       1\n",
      "589513079       1\n",
      "475918839       1\n",
      "569728340       1\n",
      "Name: user_id, Length: 370154, dtype: int64\n",
      "total_uv=370154\n",
      "total_pv=3533286\n"
     ]
    }
   ],
   "source": [
    "total_uv=data['user_id'].value_counts()\n",
    "print(total_uv)\n",
    "total_uv=len(total_uv)\n",
    "print('total_uv='+str(total_uv))\n",
    "total_pv=len(data['user_id'])\n",
    "print('total_pv='+str(total_pv))"
   ]
  },
  {
   "cell_type": "code",
   "execution_count": 6,
   "id": "relevant-receiver",
   "metadata": {},
   "outputs": [
    {
     "data": {
      "text/plain": [
       "event_time       False\n",
       "event_type       False\n",
       "product_id       False\n",
       "category_id      False\n",
       "category_code     True\n",
       "brand             True\n",
       "price            False\n",
       "user_id          False\n",
       "user_session      True\n",
       "dtype: bool"
      ]
     },
     "execution_count": 6,
     "metadata": {},
     "output_type": "execute_result"
    }
   ],
   "source": [
    "data.isnull().any()"
   ]
  },
  {
   "cell_type": "code",
   "execution_count": 7,
   "id": "organic-quality",
   "metadata": {},
   "outputs": [
    {
     "data": {
      "text/plain": [
       "count   3533286.000\n",
       "mean          8.872\n",
       "std          19.865\n",
       "min         -79.370\n",
       "25%           2.060\n",
       "50%           4.210\n",
       "75%           7.140\n",
       "max         327.780\n",
       "Name: price, dtype: float64"
      ]
     },
     "execution_count": 7,
     "metadata": {},
     "output_type": "execute_result"
    }
   ],
   "source": [
    "pd.set_option('display.float_format',lambda x:'%.3f' %x)\n",
    "data['price'].describe()"
   ]
  },
  {
   "cell_type": "code",
   "execution_count": 8,
   "id": "sweet-tackle",
   "metadata": {},
   "outputs": [],
   "source": [
    "#删除无效列\n",
    "data.drop('category_code',axis=1,inplace=True)"
   ]
  },
  {
   "cell_type": "code",
   "execution_count": 9,
   "id": "official-nothing",
   "metadata": {},
   "outputs": [
    {
     "name": "stdout",
     "output_type": "stream",
     "text": [
      "total_gmv=31346804.92\n"
     ]
    }
   ],
   "source": [
    "#总成交额/gmv（不考虑退货退款）\n",
    "total_gmv=data['price'].sum()\n",
    "print('total_gmv='+str('%.2f'%total_gmv))"
   ]
  },
  {
   "cell_type": "code",
   "execution_count": 10,
   "id": "hired-paint",
   "metadata": {},
   "outputs": [
    {
     "name": "stdout",
     "output_type": "stream",
     "text": [
      "total_order=28894\n"
     ]
    }
   ],
   "source": [
    "#总成交量\n",
    "total_order=len(data[data.event_type=='purchase']['user_session'].value_counts())\n",
    "print('total_order='+str(total_order))"
   ]
  },
  {
   "cell_type": "code",
   "execution_count": 11,
   "id": "aging-guidance",
   "metadata": {
    "scrolled": true
   },
   "outputs": [
    {
     "name": "stdout",
     "output_type": "stream",
     "text": [
      "view                1728331\n",
      "cart                 927124\n",
      "remove_from_cart     664655\n",
      "purchase             213176\n",
      "Name: event_type, dtype: int64\n",
      "<class 'pandas.core.series.Series'>\n"
     ]
    }
   ],
   "source": [
    "#购买行为分类统计\n",
    "user_event_count=data['event_type'].value_counts()\n",
    "print(user_event_count)\n",
    "print(type(user_event_count))"
   ]
  },
  {
   "cell_type": "code",
   "execution_count": 12,
   "id": "automatic-amino",
   "metadata": {},
   "outputs": [
    {
     "name": "stdout",
     "output_type": "stream",
     "text": [
      "paid_user=25613\n",
      "total_paid_rate=6.92%\n"
     ]
    }
   ],
   "source": [
    "#成交率\n",
    "paid_user=data[data.event_type=='purchase'].nunique()['user_id']\n",
    "print('paid_user='+str('%.0f'%paid_user))\n",
    "total_paid_rate=(paid_user/total_uv)*100\n",
    "print('total_paid_rate='+str('%.2f'%total_paid_rate)+'%')"
   ]
  },
  {
   "cell_type": "code",
   "execution_count": 13,
   "id": "individual-controversy",
   "metadata": {},
   "outputs": [],
   "source": [
    "import matplotlib.pyplot as plt\n",
    "import matplotlib.ticker as ticker"
   ]
  },
  {
   "cell_type": "code",
   "execution_count": 14,
   "id": "hazardous-capital",
   "metadata": {},
   "outputs": [
    {
     "data": {
      "text/plain": [
       "Text(0.5, 1.0, 'user_buy_time')"
      ]
     },
     "execution_count": 14,
     "metadata": {},
     "output_type": "execute_result"
    },
    {
     "data": {
      "image/png": "[encoded data removed]",
      "text/plain": [
       "<Figure size 432x288 with 1 Axes>"
      ]
     },
     "metadata": {
      "needs_background": "light"
     },
     "output_type": "display_data"
    }
   ],
   "source": [
    "#用户购买次数分布\n",
    "user_buy_time=data[data.event_type=='purchase'].groupby('user_id').count()['product_id'] #output Series\n",
    "plt.hist(x=user_buy_time,bins=10,range=[0,100])\n",
    "plt.xlabel('buy_time')\n",
    "plt.ylabel('user_number')\n",
    "plt.title('user_buy_time')"
   ]
  },
  {
   "cell_type": "code",
   "execution_count": 15,
   "id": "surrounded-scholar",
   "metadata": {},
   "outputs": [
    {
     "name": "stdout",
     "output_type": "stream",
     "text": [
      "per_user_buy_time=8.32\n"
     ]
    }
   ],
   "source": [
    "#人均购买次数\n",
    "total_buy_time=data[data.event_type=='purchase'].count()['user_id']\n",
    "per_user_buy_time=total_buy_time/paid_user\n",
    "print('per_user_buy_time='+str('%.2f'%per_user_buy_time))"
   ]
  },
  {
   "cell_type": "code",
   "execution_count": 16,
   "id": "united-november",
   "metadata": {},
   "outputs": [
    {
     "name": "stdout",
     "output_type": "stream",
     "text": [
      "rebuy_rate=77.27%\n"
     ]
    }
   ],
   "source": [
    "#复购率（购买次数在2次及以上的人数/有过购买记录的人数）\n",
    "twice_buy_user=user_buy_time[user_buy_time>2].count()\n",
    "twice_buy_user\n",
    "rebuy_rate=(twice_buy_user/paid_user)*100\n",
    "print('rebuy_rate='+str('%.2f'%rebuy_rate)+'%')\n",
    "# print(\"复购率:{:.2f}%\".format(repurchase_rate*100))"
   ]
  },
  {
   "cell_type": "markdown",
   "id": "absolute-batch",
   "metadata": {},
   "source": [
    "## 小结:总体流量指标诊断\n",
    "\n",
    "* 取前1w行进行预分析，总体指标情况如下：total_uv=1450，total_pv=~~10000~~，max_price=327.78，total_gmv=84519.37，total_order=59，total_paid_rate=4.07%，per_user_buy_time=11.47，rebuy_rate=91.53%\n",
    "* 用户购买次数分布显示，大多分布在0-10次区间内；10-20次区间内的用户价值有待进一步挖掘；30次以上的用户可被认定为“忠诚会员”提供1V1服务\n",
    "* 复购率高达91.53%，人均购买11.47次，说明该平台用户忠诚度较高\n",
    "\n",
    "(以上是1w条测试数据时的结论）\n",
    "\n",
    "* 总353w+条记录，总体指标情况如下：\n",
    "total_uv=370154，\n",
    "total_pv=~~3533286~~（1728331），\n",
    "max_price=327.78，\n",
    "total_gmv=31346804.92，\n",
    "total_order=28894，\n",
    "paid_user=25613而amount of purchase=213176\n",
    "total_paid_rate=6.92%，\n",
    "per_user_buy_time=8.32，\n",
    "rebuy_rate=77.27%\n",
    "* 用户购买次数分布显示，大多分布在0-10次区间内；10-20次区间内的用户价值有待进一步挖掘；30次以上的用户可被认定为“忠诚会员”提供1V1服务\n",
    "* 复购率高达91.53%，人均购买11.47次，说明该平台用户忠诚度较高"
   ]
  },
  {
   "cell_type": "code",
   "execution_count": 17,
   "id": "central-search",
   "metadata": {},
   "outputs": [],
   "source": [
    "#跳失率:只有点击行为的人数/总用户数total_uv\n",
    "# user_view_time=data[data.event_type=='view'].groupby('user_id').count()['product_id']\n",
    "# dict_user_view_time={'user_id':user_view_time.index,'times':user_view_time.values}\n",
    "# total_uv=data['user_id'].value_counts()\n",
    "# dict_total_uv={'user_id':total_uv.index,'times':total_uv.values}\n",
    "# print(dict_user_view_time,dict_total_uv)\n",
    "# only_view_user=pd.Series(list(set(user_view_time).index.intersection(set(total_uv).index)))\n",
    "#series.value_counts()[0]（最高的频数） or series.value_counts().index[0]（频数最高的键）\n",
    "# only_view_user=[]\n",
    "# for i in dict_user_view_time.keys():\n",
    "#     if i in dict_total_uv.keys():\n",
    "#         only_view_user.append(i)\n",
    "#     else:\n",
    "#         break\n",
    "# print(only_view_user)\n",
    "# print(user_view_time,user_event_time)\n",
    "# # 计算跳失率\n",
    "# bounce_rate=only_pv_user.shape[0]/total_unique_users\n",
    "# print(\"跳失率:{:.2f}%\".format(bounce_rate*100))"
   ]
  },
  {
   "cell_type": "code",
   "execution_count": 18,
   "id": "beautiful-skirt",
   "metadata": {},
   "outputs": [
    {
     "data": {
      "text/plain": [
       "event_time      1654771\n",
       "event_type            4\n",
       "product_id        44624\n",
       "category_id         482\n",
       "brand               252\n",
       "price              2122\n",
       "user_id          370154\n",
       "user_session     839812\n",
       "dtype: int64"
      ]
     },
     "execution_count": 18,
     "metadata": {},
     "output_type": "execute_result"
    }
   ],
   "source": [
    "data.nunique()"
   ]
  },
  {
   "cell_type": "markdown",
   "id": "swedish-pulse",
   "metadata": {},
   "source": [
    "### 用户行为日分布"
   ]
  },
  {
   "cell_type": "code",
   "execution_count": 19,
   "id": "realistic-lesbian",
   "metadata": {},
   "outputs": [],
   "source": [
    "date=[]\n",
    "hour=[]\n",
    "\n",
    "for i in range(0,3533286):\n",
    "    split_time=str(data['event_time'][i]).split(' ')\n",
    "    for a in split_time:\n",
    "        if \"-\" in a:\n",
    "            date.append(a)\n",
    "        elif \":\" in a:\n",
    "            hour.append(a)\n",
    "#print(date,hour)"
   ]
  },
  {
   "cell_type": "code",
   "execution_count": 20,
   "id": "sorted-forum",
   "metadata": {},
   "outputs": [
    {
     "name": "stdout",
     "output_type": "stream",
     "text": [
      "3533276    2019-12-31\n",
      "3533277    2019-12-31\n",
      "3533278    2019-12-31\n",
      "3533279    2019-12-31\n",
      "3533280    2019-12-31\n",
      "3533281    2019-12-31\n",
      "3533282    2019-12-31\n",
      "3533283    2019-12-31\n",
      "3533284    2019-12-31\n",
      "3533285    2019-12-31\n",
      "Name: date, dtype: object\n"
     ]
    }
   ],
   "source": [
    "data['date']=date\n",
    "data['hour']=hour\n",
    "# del data['event_time']\n",
    "print(data['date'].tail(10))"
   ]
  },
  {
   "cell_type": "code",
   "execution_count": 21,
   "id": "shared-southwest",
   "metadata": {},
   "outputs": [
    {
     "name": "stdout",
     "output_type": "stream",
     "text": [
      "          date     pv\n",
      "0   2019-12-01  59528\n",
      "1   2019-12-02  64921\n",
      "2   2019-12-03  63503\n",
      "3   2019-12-04  65472\n",
      "4   2019-12-05  61445\n",
      "5   2019-12-06  56883\n",
      "6   2019-12-07  53910\n",
      "7   2019-12-08  57435\n",
      "8   2019-12-09  73983\n",
      "9   2019-12-10  68677\n",
      "10  2019-12-11  69931\n",
      "11  2019-12-12  65577\n",
      "12  2019-12-13  59932\n",
      "13  2019-12-14  53099\n",
      "14  2019-12-15  60275\n",
      "15  2019-12-16  67282\n",
      "16  2019-12-17  63779\n",
      "17  2019-12-18  64313\n",
      "18  2019-12-19  58848\n",
      "19  2019-12-20  49265\n",
      "20  2019-12-21  49525\n",
      "21  2019-12-22  52169\n",
      "22  2019-12-23  58344\n",
      "23  2019-12-24  54577\n",
      "24  2019-12-25  54129\n",
      "25  2019-12-26  46670\n",
      "26  2019-12-27  41300\n",
      "27  2019-12-28  41477\n",
      "28  2019-12-29  40668\n",
      "29  2019-12-30  34198\n",
      "30  2019-12-31  17216 \n",
      "           date     uv\n",
      "0   2019-12-01  17540\n",
      "1   2019-12-02  19391\n",
      "2   2019-12-03  18735\n",
      "3   2019-12-04  18836\n",
      "4   2019-12-05  18183\n",
      "5   2019-12-06  16948\n",
      "6   2019-12-07  15508\n",
      "7   2019-12-08  16835\n",
      "8   2019-12-09  19777\n",
      "9   2019-12-10  19336\n",
      "10  2019-12-11  20128\n",
      "11  2019-12-12  18920\n",
      "12  2019-12-13  17555\n",
      "13  2019-12-14  16446\n",
      "14  2019-12-15  17988\n",
      "15  2019-12-16  19387\n",
      "16  2019-12-17  18874\n",
      "17  2019-12-18  18779\n",
      "18  2019-12-19  17917\n",
      "19  2019-12-20  16596\n",
      "20  2019-12-21  16072\n",
      "21  2019-12-22  16232\n",
      "22  2019-12-23  18455\n",
      "23  2019-12-24  17356\n",
      "24  2019-12-25  16928\n",
      "25  2019-12-26  16116\n",
      "26  2019-12-27  14595\n",
      "27  2019-12-28  14574\n",
      "28  2019-12-29  14339\n",
      "29  2019-12-30  13249\n",
      "30  2019-12-31   7430\n"
     ]
    }
   ],
   "source": [
    "# 日流量指标\n",
    "daily_pv=data[data.event_type=='view'].groupby('date')['user_id'].count().reset_index().rename(columns={'user_id':'pv'})\n",
    "daily_uv=data.groupby('date').nunique()['user_id'].reset_index().rename(columns={'user_id':'uv'})\n",
    "print(daily_pv,'\\n',daily_uv)"
   ]
  },
  {
   "cell_type": "code",
   "execution_count": 22,
   "id": "alternate-dairy",
   "metadata": {},
   "outputs": [
    {
     "data": {
      "text/plain": [
       "Text(0.5, 1.0, 'daily_uv')"
      ]
     },
     "execution_count": 22,
     "metadata": {},
     "output_type": "execute_result"
    },
    {
     "data": {
      "image/png": "[encoded data removed]",
      "text/plain": [
       "<Figure size 432x288 with 2 Axes>"
      ]
     },
     "metadata": {
      "needs_background": "light"
     },
     "output_type": "display_data"
    }
   ],
   "source": [
    "ax1=plt.subplot(2,1,1,label='daily_pv')\n",
    "ax2=plt.subplot(212,sharex=ax1,label='daily_uv')\n",
    "# fig,axes=plt.subplots(2,1,1,figsize=(12,8),sharex='all')\n",
    "daily_pv.plot(x='date',y='pv',ax=ax1)\n",
    "daily_uv.plot(x='date',y='uv',ax=ax2)\n",
    "plt.xticks(rotation=45,fontsize=12)\n",
    "ax1.set_title('daily_pv')\n",
    "ax2.set_title('daily_uv')"
   ]
  },
  {
   "cell_type": "markdown",
   "id": "supported-paris",
   "metadata": {},
   "source": [
    "### 用户行为时分布"
   ]
  },
  {
   "cell_type": "code",
   "execution_count": 42,
   "id": "medium-nashville",
   "metadata": {},
   "outputs": [
    {
     "name": "stdout",
     "output_type": "stream",
     "text": [
      "['00', '00', '00', '00', '00', '00', '00', '00', '00', '00']\n"
     ]
    }
   ],
   "source": [
    "#小时流量指标\n",
    "# for i in data.columns[:2]:\n",
    "#     data[i]=data[i].astype('str')\n",
    "# data['date']=pd.to_datetime(data.date)\n",
    "# data['hour']=data.hour.astype('int')\n",
    "hour_int=[]\n",
    "for i in hour:\n",
    "    hour_int.append(i[0:2])\n",
    "# print(hour_int[:10])"
   ]
  },
  {
   "cell_type": "code",
   "execution_count": 46,
   "id": "worse-rental",
   "metadata": {},
   "outputs": [
    {
     "name": "stdout",
     "output_type": "stream",
     "text": [
      "0      17823\n",
      "1      14194\n",
      "2      15270\n",
      "3      21451\n",
      "4      32463\n",
      "5      48661\n",
      "6      65981\n",
      "7      79501\n",
      "8      88832\n",
      "9      93496\n",
      "10     98463\n",
      "11    101215\n",
      "12    101922\n",
      "13    101012\n",
      "14     93500\n",
      "15     90756\n",
      "16     92337\n",
      "17     96901\n",
      "18    105415\n",
      "19    115898\n",
      "20    106216\n",
      "21     76067\n",
      "22     45477\n",
      "23     25480\n",
      "Name: user_id, dtype: int64 \n",
      " 0      5638\n",
      "1      5279\n",
      "2      5982\n",
      "3      8871\n",
      "4     13098\n",
      "5     18922\n",
      "6     25080\n",
      "7     29893\n",
      "8     32771\n",
      "9     34345\n",
      "10    35426\n",
      "11    36498\n",
      "12    37048\n",
      "13    35988\n",
      "14    34131\n",
      "15    33544\n",
      "16    33645\n",
      "17    34957\n",
      "18    36419\n",
      "19    36793\n",
      "20    31668\n",
      "21    21290\n",
      "22    13018\n",
      "23     8062\n",
      "Name: user_id, dtype: int64\n"
     ]
    }
   ],
   "source": [
    "data['hour_int']=hour_int\n",
    "pv_hour=data[data.event_type=='view'].groupby('hour_int').count()['user_id'].reset_index(drop=True)\n",
    "uv_hour.columns=['hour','pv']\n",
    "uv_hour=data.groupby('hour_int').nunique()['user_id'].reset_index(drop=True)   # .rename(columns={'user_id':'uv'})一直显示rename有个unexpected keyword kwarg columns\n",
    "uv_hour.columns=['hour','uv']\n",
    "print(pv_hour,'\\n',uv_hour)"
   ]
  },
  {
   "cell_type": "code",
   "execution_count": 49,
   "id": "portable-mexican",
   "metadata": {},
   "outputs": [
    {
     "data": {
      "image/png": "[encoded data removed]",
      "text/plain": [
       "<Figure size 864x576 with 2 Axes>"
      ]
     },
     "metadata": {
      "needs_background": "light"
     },
     "output_type": "display_data"
    }
   ],
   "source": [
    "fig,axes=plt.subplots(nrows=2,ncols=1,figsize=(12,8),sharex=True)\n",
    "pv_hour.plot(ax=axes[0])\n",
    "uv_hour.plot(ax=axes[1])\n",
    "axes[0].set_title('pv_hour')\n",
    "axes[1].set_title('uv_hour')\n",
    "axes[0].xaxis.set_minor_locator(ticker.MultipleLocator(1))\n",
    "axes[1].xaxis.set_minor_locator(ticker.MultipleLocator(1))\n",
    "plt.show()"
   ]
  },
  {
   "cell_type": "code",
   "execution_count": 50,
   "id": "bibliographic-dietary",
   "metadata": {},
   "outputs": [
    {
     "name": "stdout",
     "output_type": "stream",
     "text": [
      "mean_daily_pv=55752.61\n",
      "mean_daily_uv=17065.32\n",
      "mean_daily_gmv=1011187.26\n",
      "mean_daily_order=934\n",
      "mean_daily_paid_user=919\n",
      "mean_daily_paid_rate=5.39%\n",
      "mean_daily_ARPU=59.25\n",
      "mean_daily_ARPPU=1100.31\n"
     ]
    }
   ],
   "source": [
    "mean_daily_pv=data[data.event_type=='view'].groupby('date')['user_id'].count().mean()\n",
    "print('mean_daily_pv='+str('%.2f'%mean_daily_pv))\n",
    "mean_daily_uv=data.groupby('date').nunique()['user_id'].mean()\n",
    "print('mean_daily_uv='+str('%.2f'%mean_daily_uv))\n",
    "mean_daily_gmv=data.groupby('date')['price'].sum().mean()\n",
    "print('mean_daily_gmv='+str('%.2f'%mean_daily_gmv))\n",
    "mean_daily_order=data[data.event_type=='purchase'].groupby('date').nunique()['user_session'].values.mean() #series.values访问频数，.index访问索引\n",
    "print('mean_daily_order='+str('%.0f'%mean_daily_order))\n",
    "mean_daily_paid_user=data[data.event_type=='purchase'].groupby('date').nunique()['user_id'].mean()\n",
    "print('mean_daily_paid_user='+str('%.0f'%mean_daily_paid_user))\n",
    "mean_daily_paid_rate=(mean_daily_paid_user/mean_daily_uv)*100\n",
    "print('mean_daily_paid_rate='+str('%.2f'%mean_daily_paid_rate)+'%')\n",
    "mean_daily_ARPU=(mean_daily_gmv/mean_daily_uv)\n",
    "print('mean_daily_ARPU='+str('%.2f'%mean_daily_ARPU))\n",
    "mean_daily_ARPPU=(mean_daily_gmv/mean_daily_paid_user)\n",
    "print('mean_daily_ARPPU='+str('%.2f'%mean_daily_ARPPU))"
   ]
  },
  {
   "cell_type": "markdown",
   "id": "southwest-steering",
   "metadata": {},
   "source": [
    "## 小结：用户消费行为总览\n",
    "* 总体指标概览\n",
    "mean_daily_pv=10000.00\n",
    "mean_daily_uv=1450.00\n",
    "mean_daily_gmv=84519.37\n",
    "mean_daily_order=59\n",
    "mean_daily_paid_user=59\n",
    "mean_daily_paid_rate=4.07%\n",
    "mean_daily_ARPU=58.29\n",
    "mean_daily_ARPPU=1432.53\n",
    "\n",
    "-------\n",
    "（以上是1w条预分析的结论）\n",
    "* 总体指标概览 :joy:\n",
    "mean_daily_pv=55752.61\n",
    "mean_daily_uv=17065.32\n",
    "mean_daily_gmv=1011187.26\n",
    "mean_daily_order=934\n",
    "mean_daily_paid_user=919\n",
    "mean_daily_paid_rate=5.39%\n",
    "mean_daily_ARPU=59.25\n",
    "mean_daily_ARPPU=1100.31\n",
    "* 从daily_pv&daily_uv图表可以看出，该月内用户量、访问量几乎同幅变动，整体呈现逐渐下降的趋势，在12.2、12.9两个预售日节点有明显小高峰，12.12活动当天达到峰值，紧接着有2-3天的冷却期，之后12.16、12.23有返潮现象\n",
    "* 周末活跃度明显高于其它工作日，故营销活动或宣发应在周末进行\n",
    "* 从pv_hour&uv_hour图表可以看出，总体来看19:00-次日2:00的访问量在下降，2:00后开始回升,7:00至正常水平，每日的12:00、19:00达到峰值，反映出午餐及下班后时间更适宜搞平台运营动作\n",
    "* 用户活跃时段9:00-13:00、17:00-20:00，一般活跃时段13:00-17:00、5:00-9:00，,非活跃时段20:00-5:00"
   ]
  },
  {
   "cell_type": "code",
   "execution_count": 51,
   "id": "likely-french",
   "metadata": {},
   "outputs": [],
   "source": [
    "view=data[data.event_type=='view']\n",
    "cart=data[data.event_type=='cart']\n",
    "purchase=data[data.event_type=='purchase']\n",
    "remove=data[data.event_type=='remove from cart']"
   ]
  },
  {
   "cell_type": "code",
   "execution_count": 52,
   "id": "greater-corrections",
   "metadata": {},
   "outputs": [
    {
     "data": {
      "text/plain": [
       "358212"
      ]
     },
     "execution_count": 52,
     "metadata": {},
     "output_type": "execute_result"
    }
   ],
   "source": [
    "view_num=view.user_id.nunique()\n",
    "cart_num=cart.user_id.nunique()\n",
    "purchase_num=purchase.user_id.nunique()\n",
    "remove_num=remove.user_id.nunique()\n",
    "view_num"
   ]
  },
  {
   "cell_type": "markdown",
   "id": "peripheral-joshua",
   "metadata": {},
   "source": [
    "### 画用户行为漏斗图"
   ]
  },
  {
   "cell_type": "code",
   "execution_count": 72,
   "id": "separated-species",
   "metadata": {},
   "outputs": [
    {
     "name": "stdout",
     "output_type": "stream",
     "text": [
      "Requirement already satisfied: pyecharts in c:\\anaconda\\lib\\site-packages (0.1.9.4)\n",
      "Collecting pyecharts\n",
      "  Using cached pyecharts-1.9.0-py3-none-any.whl (135 kB)\n",
      "Requirement already satisfied: jinja2 in c:\\anaconda\\lib\\site-packages (from pyecharts) (2.11.3)\n",
      "Requirement already satisfied: prettytable in c:\\anaconda\\lib\\site-packages (from pyecharts) (2.1.0)\n",
      "Requirement already satisfied: simplejson in c:\\anaconda\\lib\\site-packages (from pyecharts) (3.17.2)\n",
      "Requirement already satisfied: MarkupSafe>=0.23 in c:\\anaconda\\lib\\site-packages (from jinja2->pyecharts) (1.1.1)\n",
      "Requirement already satisfied: wcwidth in c:\\anaconda\\lib\\site-packages (from prettytable->pyecharts) (0.2.5)\n",
      "Installing collected packages: pyecharts\n",
      "  Attempting uninstall: pyecharts\n",
      "    Found existing installation: pyecharts 0.1.9.4\n",
      "    Uninstalling pyecharts-0.1.9.4:\n",
      "      Successfully uninstalled pyecharts-0.1.9.4\n",
      "Successfully installed pyecharts-1.9.0\n"
     ]
    }
   ],
   "source": [
    "!pip install -U pyecharts"
   ]
  },
  {
   "cell_type": "code",
   "execution_count": 73,
   "id": "mechanical-motel",
   "metadata": {},
   "outputs": [],
   "source": [
    "from pyecharts.charts import Funnel\n",
    "from pyecharts import options as opts"
   ]
  },
  {
   "cell_type": "code",
   "execution_count": 80,
   "id": "former-heating",
   "metadata": {},
   "outputs": [
    {
     "data": {
      "text/html": [
       "\n",
       "<script>\n",
       "    require.config({\n",
       "        paths: {\n",
       "            'echarts':'https://assets.pyecharts.org/assets/echarts.min'\n",
       "        }\n",
       "    });\n",
       "</script>\n",
       "\n",
       "        <div id=\"5f89692b9e98460580c74730e402fe0b\" style=\"width:500px; height:300px;\"></div>\n",
       "\n",
       "<script>\n",
       "        require(['echarts'], function(echarts) {\n",
       "                var chart_5f89692b9e98460580c74730e402fe0b = echarts.init(\n",
       "                    document.getElementById('5f89692b9e98460580c74730e402fe0b'), 'white', {renderer: 'canvas'});\n",
       "                var option_5f89692b9e98460580c74730e402fe0b = {\n",
       "    \"animation\": true,\n",
       "    \"animationThreshold\": 2000,\n",
       "    \"animationDuration\": 1000,\n",
       "    \"animationEasing\": \"cubicOut\",\n",
       "    \"animationDelay\": 0,\n",
       "    \"animationDurationUpdate\": 300,\n",
       "    \"animationEasingUpdate\": \"cubicOut\",\n",
       "    \"animationDelayUpdate\": 0,\n",
       "    \"color\": [\n",
       "        \"#c23531\",\n",
       "        \"#2f4554\",\n",
       "        \"#61a0a8\",\n",
       "        \"#d48265\",\n",
       "        \"#749f83\",\n",
       "        \"#ca8622\",\n",
       "        \"#bda29a\",\n",
       "        \"#6e7074\",\n",
       "        \"#546570\",\n",
       "        \"#c4ccd3\",\n",
       "        \"#f05b72\",\n",
       "        \"#ef5b9c\",\n",
       "        \"#f47920\",\n",
       "        \"#905a3d\",\n",
       "        \"#fab27b\",\n",
       "        \"#2a5caa\",\n",
       "        \"#444693\",\n",
       "        \"#726930\",\n",
       "        \"#b2d235\",\n",
       "        \"#6d8346\",\n",
       "        \"#ac6767\",\n",
       "        \"#1d953f\",\n",
       "        \"#6950a1\",\n",
       "        \"#918597\"\n",
       "    ],\n",
       "    \"series\": [\n",
       "        {\n",
       "            \"type\": \"funnel\",\n",
       "            \"name\": \"type\",\n",
       "            \"data\": [\n",
       "                {\n",
       "                    \"name\": \"\\u6d4f\\u89c8\",\n",
       "                    \"value\": 358212\n",
       "                },\n",
       "                {\n",
       "                    \"name\": \"\\u52a0\\u8d2d\",\n",
       "                    \"value\": 83458\n",
       "                },\n",
       "                {\n",
       "                    \"name\": \"\\u4ed8\\u8d39\",\n",
       "                    \"value\": 25613\n",
       "                }\n",
       "            ],\n",
       "            \"sort\": \"descending\",\n",
       "            \"gap\": 1,\n",
       "            \"label\": {\n",
       "                \"show\": true,\n",
       "                \"position\": \"top\",\n",
       "                \"margin\": 8\n",
       "            },\n",
       "            \"tooltip\": {\n",
       "                \"show\": true,\n",
       "                \"trigger\": \"item\",\n",
       "                \"triggerOn\": \"mousemove|click\",\n",
       "                \"axisPointer\": {\n",
       "                    \"type\": \"line\"\n",
       "                },\n",
       "                \"showContent\": true,\n",
       "                \"alwaysShowContent\": false,\n",
       "                \"showDelay\": 0,\n",
       "                \"hideDelay\": 100,\n",
       "                \"textStyle\": {\n",
       "                    \"fontSize\": 14\n",
       "                },\n",
       "                \"borderWidth\": 0,\n",
       "                \"padding\": 5\n",
       "            }\n",
       "        }\n",
       "    ],\n",
       "    \"legend\": [\n",
       "        {\n",
       "            \"data\": [\n",
       "                \"\\u6d4f\\u89c8\",\n",
       "                \"\\u4ed8\\u8d39\",\n",
       "                \"\\u52a0\\u8d2d\"\n",
       "            ],\n",
       "            \"selected\": {\n",
       "                \"\\u6d4f\\u89c8\": true,\n",
       "                \"\\u52a0\\u8d2d\": true,\n",
       "                \"\\u4ed8\\u8d39\": true\n",
       "            },\n",
       "            \"show\": true,\n",
       "            \"padding\": 5,\n",
       "            \"itemGap\": 10,\n",
       "            \"itemWidth\": 25,\n",
       "            \"itemHeight\": 14\n",
       "        }\n",
       "    ],\n",
       "    \"tooltip\": {\n",
       "        \"show\": true,\n",
       "        \"trigger\": \"item\",\n",
       "        \"triggerOn\": \"mousemove|click\",\n",
       "        \"axisPointer\": {\n",
       "            \"type\": \"line\"\n",
       "        },\n",
       "        \"showContent\": true,\n",
       "        \"alwaysShowContent\": false,\n",
       "        \"showDelay\": 0,\n",
       "        \"hideDelay\": 100,\n",
       "        \"textStyle\": {\n",
       "            \"fontSize\": 14\n",
       "        },\n",
       "        \"borderWidth\": 0,\n",
       "        \"padding\": 5\n",
       "    },\n",
       "    \"title\": [\n",
       "        {\n",
       "            \"text\": \"\\u7528\\u6237\\u8f6c\\u5316\\u6f0f\\u6597\",\n",
       "            \"subtext\": \"process:\\u6d4f\\u89c8-\\u52a0\\u8d2d-\\u4ed8\\u8d39\",\n",
       "            \"padding\": 5,\n",
       "            \"itemGap\": 10\n",
       "        }\n",
       "    ]\n",
       "};\n",
       "                chart_5f89692b9e98460580c74730e402fe0b.setOption(option_5f89692b9e98460580c74730e402fe0b);\n",
       "        });\n",
       "    </script>\n"
      ],
      "text/plain": [
       "<pyecharts.render.display.HTML at 0x2c9b774a700>"
      ]
     },
     "execution_count": 80,
     "metadata": {},
     "output_type": "execute_result"
    }
   ],
   "source": [
    "funnel_data=[(\"浏览\",view_num),(\"加购\",cart_num),(\"付费\",purchase_num)]\n",
    "(Funnel(init_opts=opts.InitOpts(width='500px',height='300px')).add(\n",
    "    \"type\",data_pair=funnel_data,label_opts=opts.LabelOpts(),gap=1,tooltip_opts=opts.TooltipOpts(is_show=True)).set_global_opts(\n",
    "        title_opts=opts.TitleOpts(title=\"用户转化漏斗\",subtitle=\"process:浏览-加购-付费\"))\n",
    ").render_notebook()"
   ]
  },
  {
   "cell_type": "markdown",
   "id": "prescribed-colonial",
   "metadata": {},
   "source": [
    "### 计算用户流转链路中的层级转化率"
   ]
  },
  {
   "cell_type": "code",
   "execution_count": 85,
   "id": "champion-finance",
   "metadata": {},
   "outputs": [
    {
     "data": {
      "text/html": [
       "<div>\n",
       "<style scoped>\n",
       "    .dataframe tbody tr th:only-of-type {\n",
       "        vertical-align: middle;\n",
       "    }\n",
       "\n",
       "    .dataframe tbody tr th {\n",
       "        vertical-align: top;\n",
       "    }\n",
       "\n",
       "    .dataframe thead th {\n",
       "        text-align: right;\n",
       "    }\n",
       "</style>\n",
       "<table border=\"1\" class=\"dataframe\">\n",
       "  <thead>\n",
       "    <tr style=\"text-align: right;\">\n",
       "      <th></th>\n",
       "      <th>event_time_view</th>\n",
       "      <th>event_type_view</th>\n",
       "      <th>product_id</th>\n",
       "      <th>category_id_view</th>\n",
       "      <th>brand_view</th>\n",
       "      <th>price_view</th>\n",
       "      <th>user_id</th>\n",
       "      <th>user_session_view</th>\n",
       "      <th>date_view</th>\n",
       "      <th>hour_view</th>\n",
       "      <th>hour_int_view</th>\n",
       "      <th>event_time_cart</th>\n",
       "      <th>event_type_cart</th>\n",
       "      <th>category_id_cart</th>\n",
       "      <th>brand_cart</th>\n",
       "      <th>price_cart</th>\n",
       "      <th>user_session_cart</th>\n",
       "      <th>date_cart</th>\n",
       "      <th>hour_cart</th>\n",
       "      <th>hour_int_cart</th>\n",
       "    </tr>\n",
       "  </thead>\n",
       "  <tbody>\n",
       "    <tr>\n",
       "      <th>0</th>\n",
       "      <td>2019-12-01 00:00:22 UTC</td>\n",
       "      <td>view</td>\n",
       "      <td>5807805</td>\n",
       "      <td>1487580005713052531</td>\n",
       "      <td>ingarden</td>\n",
       "      <td>4.440</td>\n",
       "      <td>576005683</td>\n",
       "      <td>28172809-7e4a-45ce-bab0-5efa90117cd5</td>\n",
       "      <td>2019-12-01</td>\n",
       "      <td>00:00:22</td>\n",
       "      <td>00</td>\n",
       "      <td>2019-12-01 00:11:31 UTC</td>\n",
       "      <td>cart</td>\n",
       "      <td>1487580005713052531</td>\n",
       "      <td>ingarden</td>\n",
       "      <td>4.440</td>\n",
       "      <td>28172809-7e4a-45ce-bab0-5efa90117cd5</td>\n",
       "      <td>2019-12-01</td>\n",
       "      <td>00:11:31</td>\n",
       "      <td>00</td>\n",
       "    </tr>\n",
       "    <tr>\n",
       "      <th>1</th>\n",
       "      <td>2019-12-01 00:11:20 UTC</td>\n",
       "      <td>view</td>\n",
       "      <td>5807805</td>\n",
       "      <td>1487580005713052531</td>\n",
       "      <td>ingarden</td>\n",
       "      <td>4.440</td>\n",
       "      <td>576005683</td>\n",
       "      <td>28172809-7e4a-45ce-bab0-5efa90117cd5</td>\n",
       "      <td>2019-12-01</td>\n",
       "      <td>00:11:20</td>\n",
       "      <td>00</td>\n",
       "      <td>2019-12-01 00:11:31 UTC</td>\n",
       "      <td>cart</td>\n",
       "      <td>1487580005713052531</td>\n",
       "      <td>ingarden</td>\n",
       "      <td>4.440</td>\n",
       "      <td>28172809-7e4a-45ce-bab0-5efa90117cd5</td>\n",
       "      <td>2019-12-01</td>\n",
       "      <td>00:11:31</td>\n",
       "      <td>00</td>\n",
       "    </tr>\n",
       "    <tr>\n",
       "      <th>2</th>\n",
       "      <td>2019-12-01 00:00:46 UTC</td>\n",
       "      <td>view</td>\n",
       "      <td>5798929</td>\n",
       "      <td>1783999068909863670</td>\n",
       "      <td>zinger</td>\n",
       "      <td>6.190</td>\n",
       "      <td>579966747</td>\n",
       "      <td>1512be50-d0fd-4a92-bcd8-3ea3943f2a3b</td>\n",
       "      <td>2019-12-01</td>\n",
       "      <td>00:00:46</td>\n",
       "      <td>00</td>\n",
       "      <td>2019-12-01 00:03:32 UTC</td>\n",
       "      <td>cart</td>\n",
       "      <td>1783999068909863670</td>\n",
       "      <td>zinger</td>\n",
       "      <td>6.190</td>\n",
       "      <td>1512be50-d0fd-4a92-bcd8-3ea3943f2a3b</td>\n",
       "      <td>2019-12-01</td>\n",
       "      <td>00:03:32</td>\n",
       "      <td>00</td>\n",
       "    </tr>\n",
       "    <tr>\n",
       "      <th>3</th>\n",
       "      <td>2019-12-01 00:02:41 UTC</td>\n",
       "      <td>view</td>\n",
       "      <td>5798929</td>\n",
       "      <td>1783999068909863670</td>\n",
       "      <td>zinger</td>\n",
       "      <td>6.190</td>\n",
       "      <td>579966747</td>\n",
       "      <td>1512be50-d0fd-4a92-bcd8-3ea3943f2a3b</td>\n",
       "      <td>2019-12-01</td>\n",
       "      <td>00:02:41</td>\n",
       "      <td>00</td>\n",
       "      <td>2019-12-01 00:03:32 UTC</td>\n",
       "      <td>cart</td>\n",
       "      <td>1783999068909863670</td>\n",
       "      <td>zinger</td>\n",
       "      <td>6.190</td>\n",
       "      <td>1512be50-d0fd-4a92-bcd8-3ea3943f2a3b</td>\n",
       "      <td>2019-12-01</td>\n",
       "      <td>00:03:32</td>\n",
       "      <td>00</td>\n",
       "    </tr>\n",
       "    <tr>\n",
       "      <th>4</th>\n",
       "      <td>2019-12-01 00:03:27 UTC</td>\n",
       "      <td>view</td>\n",
       "      <td>5798929</td>\n",
       "      <td>1783999068909863670</td>\n",
       "      <td>zinger</td>\n",
       "      <td>6.190</td>\n",
       "      <td>579966747</td>\n",
       "      <td>1512be50-d0fd-4a92-bcd8-3ea3943f2a3b</td>\n",
       "      <td>2019-12-01</td>\n",
       "      <td>00:03:27</td>\n",
       "      <td>00</td>\n",
       "      <td>2019-12-01 00:03:32 UTC</td>\n",
       "      <td>cart</td>\n",
       "      <td>1783999068909863670</td>\n",
       "      <td>zinger</td>\n",
       "      <td>6.190</td>\n",
       "      <td>1512be50-d0fd-4a92-bcd8-3ea3943f2a3b</td>\n",
       "      <td>2019-12-01</td>\n",
       "      <td>00:03:32</td>\n",
       "      <td>00</td>\n",
       "    </tr>\n",
       "    <tr>\n",
       "      <th>...</th>\n",
       "      <td>...</td>\n",
       "      <td>...</td>\n",
       "      <td>...</td>\n",
       "      <td>...</td>\n",
       "      <td>...</td>\n",
       "      <td>...</td>\n",
       "      <td>...</td>\n",
       "      <td>...</td>\n",
       "      <td>...</td>\n",
       "      <td>...</td>\n",
       "      <td>...</td>\n",
       "      <td>...</td>\n",
       "      <td>...</td>\n",
       "      <td>...</td>\n",
       "      <td>...</td>\n",
       "      <td>...</td>\n",
       "      <td>...</td>\n",
       "      <td>...</td>\n",
       "      <td>...</td>\n",
       "      <td>...</td>\n",
       "    </tr>\n",
       "    <tr>\n",
       "      <th>630238</th>\n",
       "      <td>2019-12-31 23:52:21 UTC</td>\n",
       "      <td>view</td>\n",
       "      <td>5831578</td>\n",
       "      <td>1487580011677352062</td>\n",
       "      <td>NaN</td>\n",
       "      <td>10.950</td>\n",
       "      <td>595413503</td>\n",
       "      <td>3d5af3a2-4a25-48df-b981-b8021915dfe8</td>\n",
       "      <td>2019-12-31</td>\n",
       "      <td>23:52:21</td>\n",
       "      <td>23</td>\n",
       "      <td>2019-12-31 23:53:04 UTC</td>\n",
       "      <td>cart</td>\n",
       "      <td>1487580011677352062</td>\n",
       "      <td>NaN</td>\n",
       "      <td>10.950</td>\n",
       "      <td>3d5af3a2-4a25-48df-b981-b8021915dfe8</td>\n",
       "      <td>2019-12-31</td>\n",
       "      <td>23:53:04</td>\n",
       "      <td>23</td>\n",
       "    </tr>\n",
       "    <tr>\n",
       "      <th>630239</th>\n",
       "      <td>2019-12-31 23:52:55 UTC</td>\n",
       "      <td>view</td>\n",
       "      <td>5746400</td>\n",
       "      <td>1487580005754995573</td>\n",
       "      <td>NaN</td>\n",
       "      <td>4.440</td>\n",
       "      <td>420652863</td>\n",
       "      <td>546f6af3-a517-4752-a98b-80c4c5860711</td>\n",
       "      <td>2019-12-31</td>\n",
       "      <td>23:52:55</td>\n",
       "      <td>23</td>\n",
       "      <td>2019-12-10 09:17:52 UTC</td>\n",
       "      <td>cart</td>\n",
       "      <td>1487580005754995573</td>\n",
       "      <td>NaN</td>\n",
       "      <td>4.440</td>\n",
       "      <td>c05dd6c7-0753-4217-83a2-fdbcdb2d566f</td>\n",
       "      <td>2019-12-10</td>\n",
       "      <td>09:17:52</td>\n",
       "      <td>09</td>\n",
       "    </tr>\n",
       "    <tr>\n",
       "      <th>630240</th>\n",
       "      <td>2019-12-31 23:52:55 UTC</td>\n",
       "      <td>view</td>\n",
       "      <td>5746400</td>\n",
       "      <td>1487580005754995573</td>\n",
       "      <td>NaN</td>\n",
       "      <td>4.440</td>\n",
       "      <td>420652863</td>\n",
       "      <td>546f6af3-a517-4752-a98b-80c4c5860711</td>\n",
       "      <td>2019-12-31</td>\n",
       "      <td>23:52:55</td>\n",
       "      <td>23</td>\n",
       "      <td>2019-12-31 23:53:31 UTC</td>\n",
       "      <td>cart</td>\n",
       "      <td>1487580005754995573</td>\n",
       "      <td>NaN</td>\n",
       "      <td>4.440</td>\n",
       "      <td>546f6af3-a517-4752-a98b-80c4c5860711</td>\n",
       "      <td>2019-12-31</td>\n",
       "      <td>23:53:31</td>\n",
       "      <td>23</td>\n",
       "    </tr>\n",
       "    <tr>\n",
       "      <th>630241</th>\n",
       "      <td>2019-12-31 23:54:02 UTC</td>\n",
       "      <td>view</td>\n",
       "      <td>5809871</td>\n",
       "      <td>1605161575889502297</td>\n",
       "      <td>grattol</td>\n",
       "      <td>3.020</td>\n",
       "      <td>502631750</td>\n",
       "      <td>6edb4c0e-285c-4fbc-8977-589ef6d326b8</td>\n",
       "      <td>2019-12-31</td>\n",
       "      <td>23:54:02</td>\n",
       "      <td>23</td>\n",
       "      <td>2019-12-31 23:54:25 UTC</td>\n",
       "      <td>cart</td>\n",
       "      <td>1605161575889502297</td>\n",
       "      <td>grattol</td>\n",
       "      <td>3.020</td>\n",
       "      <td>6edb4c0e-285c-4fbc-8977-589ef6d326b8</td>\n",
       "      <td>2019-12-31</td>\n",
       "      <td>23:54:25</td>\n",
       "      <td>23</td>\n",
       "    </tr>\n",
       "    <tr>\n",
       "      <th>630242</th>\n",
       "      <td>2019-12-31 23:56:39 UTC</td>\n",
       "      <td>view</td>\n",
       "      <td>5622677</td>\n",
       "      <td>1487580007281722301</td>\n",
       "      <td>severina</td>\n",
       "      <td>3.160</td>\n",
       "      <td>502631750</td>\n",
       "      <td>6edb4c0e-285c-4fbc-8977-589ef6d326b8</td>\n",
       "      <td>2019-12-31</td>\n",
       "      <td>23:56:39</td>\n",
       "      <td>23</td>\n",
       "      <td>2019-12-31 23:58:35 UTC</td>\n",
       "      <td>cart</td>\n",
       "      <td>1487580007281722301</td>\n",
       "      <td>severina</td>\n",
       "      <td>3.160</td>\n",
       "      <td>6edb4c0e-285c-4fbc-8977-589ef6d326b8</td>\n",
       "      <td>2019-12-31</td>\n",
       "      <td>23:58:35</td>\n",
       "      <td>23</td>\n",
       "    </tr>\n",
       "  </tbody>\n",
       "</table>\n",
       "<p>630243 rows × 20 columns</p>\n",
       "</div>"
      ],
      "text/plain": [
       "                event_time_view event_type_view  product_id  \\\n",
       "0       2019-12-01 00:00:22 UTC            view     5807805   \n",
       "1       2019-12-01 00:11:20 UTC            view     5807805   \n",
       "2       2019-12-01 00:00:46 UTC            view     5798929   \n",
       "3       2019-12-01 00:02:41 UTC            view     5798929   \n",
       "4       2019-12-01 00:03:27 UTC            view     5798929   \n",
       "...                         ...             ...         ...   \n",
       "630238  2019-12-31 23:52:21 UTC            view     5831578   \n",
       "630239  2019-12-31 23:52:55 UTC            view     5746400   \n",
       "630240  2019-12-31 23:52:55 UTC            view     5746400   \n",
       "630241  2019-12-31 23:54:02 UTC            view     5809871   \n",
       "630242  2019-12-31 23:56:39 UTC            view     5622677   \n",
       "\n",
       "           category_id_view brand_view  price_view    user_id  \\\n",
       "0       1487580005713052531   ingarden       4.440  576005683   \n",
       "1       1487580005713052531   ingarden       4.440  576005683   \n",
       "2       1783999068909863670     zinger       6.190  579966747   \n",
       "3       1783999068909863670     zinger       6.190  579966747   \n",
       "4       1783999068909863670     zinger       6.190  579966747   \n",
       "...                     ...        ...         ...        ...   \n",
       "630238  1487580011677352062        NaN      10.950  595413503   \n",
       "630239  1487580005754995573        NaN       4.440  420652863   \n",
       "630240  1487580005754995573        NaN       4.440  420652863   \n",
       "630241  1605161575889502297    grattol       3.020  502631750   \n",
       "630242  1487580007281722301   severina       3.160  502631750   \n",
       "\n",
       "                           user_session_view   date_view hour_view  \\\n",
       "0       28172809-7e4a-45ce-bab0-5efa90117cd5  2019-12-01  00:00:22   \n",
       "1       28172809-7e4a-45ce-bab0-5efa90117cd5  2019-12-01  00:11:20   \n",
       "2       1512be50-d0fd-4a92-bcd8-3ea3943f2a3b  2019-12-01  00:00:46   \n",
       "3       1512be50-d0fd-4a92-bcd8-3ea3943f2a3b  2019-12-01  00:02:41   \n",
       "4       1512be50-d0fd-4a92-bcd8-3ea3943f2a3b  2019-12-01  00:03:27   \n",
       "...                                      ...         ...       ...   \n",
       "630238  3d5af3a2-4a25-48df-b981-b8021915dfe8  2019-12-31  23:52:21   \n",
       "630239  546f6af3-a517-4752-a98b-80c4c5860711  2019-12-31  23:52:55   \n",
       "630240  546f6af3-a517-4752-a98b-80c4c5860711  2019-12-31  23:52:55   \n",
       "630241  6edb4c0e-285c-4fbc-8977-589ef6d326b8  2019-12-31  23:54:02   \n",
       "630242  6edb4c0e-285c-4fbc-8977-589ef6d326b8  2019-12-31  23:56:39   \n",
       "\n",
       "       hour_int_view          event_time_cart event_type_cart  \\\n",
       "0                 00  2019-12-01 00:11:31 UTC            cart   \n",
       "1                 00  2019-12-01 00:11:31 UTC            cart   \n",
       "2                 00  2019-12-01 00:03:32 UTC            cart   \n",
       "3                 00  2019-12-01 00:03:32 UTC            cart   \n",
       "4                 00  2019-12-01 00:03:32 UTC            cart   \n",
       "...              ...                      ...             ...   \n",
       "630238            23  2019-12-31 23:53:04 UTC            cart   \n",
       "630239            23  2019-12-10 09:17:52 UTC            cart   \n",
       "630240            23  2019-12-31 23:53:31 UTC            cart   \n",
       "630241            23  2019-12-31 23:54:25 UTC            cart   \n",
       "630242            23  2019-12-31 23:58:35 UTC            cart   \n",
       "\n",
       "           category_id_cart brand_cart  price_cart  \\\n",
       "0       1487580005713052531   ingarden       4.440   \n",
       "1       1487580005713052531   ingarden       4.440   \n",
       "2       1783999068909863670     zinger       6.190   \n",
       "3       1783999068909863670     zinger       6.190   \n",
       "4       1783999068909863670     zinger       6.190   \n",
       "...                     ...        ...         ...   \n",
       "630238  1487580011677352062        NaN      10.950   \n",
       "630239  1487580005754995573        NaN       4.440   \n",
       "630240  1487580005754995573        NaN       4.440   \n",
       "630241  1605161575889502297    grattol       3.020   \n",
       "630242  1487580007281722301   severina       3.160   \n",
       "\n",
       "                           user_session_cart   date_cart hour_cart  \\\n",
       "0       28172809-7e4a-45ce-bab0-5efa90117cd5  2019-12-01  00:11:31   \n",
       "1       28172809-7e4a-45ce-bab0-5efa90117cd5  2019-12-01  00:11:31   \n",
       "2       1512be50-d0fd-4a92-bcd8-3ea3943f2a3b  2019-12-01  00:03:32   \n",
       "3       1512be50-d0fd-4a92-bcd8-3ea3943f2a3b  2019-12-01  00:03:32   \n",
       "4       1512be50-d0fd-4a92-bcd8-3ea3943f2a3b  2019-12-01  00:03:32   \n",
       "...                                      ...         ...       ...   \n",
       "630238  3d5af3a2-4a25-48df-b981-b8021915dfe8  2019-12-31  23:53:04   \n",
       "630239  c05dd6c7-0753-4217-83a2-fdbcdb2d566f  2019-12-10  09:17:52   \n",
       "630240  546f6af3-a517-4752-a98b-80c4c5860711  2019-12-31  23:53:31   \n",
       "630241  6edb4c0e-285c-4fbc-8977-589ef6d326b8  2019-12-31  23:54:25   \n",
       "630242  6edb4c0e-285c-4fbc-8977-589ef6d326b8  2019-12-31  23:58:35   \n",
       "\n",
       "       hour_int_cart  \n",
       "0                 00  \n",
       "1                 00  \n",
       "2                 00  \n",
       "3                 00  \n",
       "4                 00  \n",
       "...              ...  \n",
       "630238            23  \n",
       "630239            09  \n",
       "630240            23  \n",
       "630241            23  \n",
       "630242            23  \n",
       "\n",
       "[630243 rows x 20 columns]"
      ]
     },
     "execution_count": 85,
     "metadata": {},
     "output_type": "execute_result"
    }
   ],
   "source": [
    "view2cart=pd.merge(left=view,right=cart,how='inner',on=['user_id','product_id'],suffixes=(\"_view\",\"_cart\"))\n",
    "cart2purchase=pd.merge(left=cart,right=purchase,how='inner',on=['user_id','product_id'],suffixes=(\"_cart\",\"_purchase\"))\n",
    "view2purchase=pd.merge(left=view,right=purchase,how='inner',on=['user_id','product_id'],suffixes=(\"_view\",\"_purchase\"))\n",
    "view2cart"
   ]
  },
  {
   "cell_type": "code",
   "execution_count": 105,
   "id": "unnecessary-tours",
   "metadata": {},
   "outputs": [
    {
     "name": "stdout",
     "output_type": "stream",
     "text": [
      "52979 25176 21279\n",
      "浏览加购层级转化率14.79%\n",
      "加购付费层级转化率30.17%\n",
      "浏览付费层级转化率5.94%\n"
     ]
    }
   ],
   "source": [
    "# view2cart['event_time_view']=pd.toDatetime()\n",
    "view2cart_user=view2cart[view2cart.event_time_view<view2cart.event_time_cart].user_id.nunique()\n",
    "cart2purchase_user=cart2purchase[cart2purchase.event_time_cart<cart2purchase.event_time_purchase].user_id.nunique()\n",
    "view2purchase_user=view2purchase[view2purchase.event_time_view<view2purchase.event_time_purchase].user_id.nunique()\n",
    "print(view2cart_user,cart2purchase_user,view2purchase_user)\n",
    "view_user=data[data.event_type=='view'].user_id.nunique()\n",
    "cart_user=data[data.event_type=='cart'].user_id.nunique()\n",
    "# 计算层级转化率\n",
    "view2cart_rate=view2cart_user/view_user\n",
    "cart2purchase_rate=cart2purchase_user/cart_user\n",
    "view2purchase_rate=view2purchase_user/view_user\n",
    "print('浏览加购层级转化率%.2f%%'%(view2cart_rate*100))\n",
    "print('加购付费层级转化率%.2f%%'%(cart2purchase_rate*100))\n",
    "print('浏览付费层级转化率%.2f%%'%(view2purchase_rate*100))"
   ]
  },
  {
   "cell_type": "code",
   "execution_count": 101,
   "id": "constant-breakfast",
   "metadata": {},
   "outputs": [
    {
     "name": "stdout",
     "output_type": "stream",
     "text": [
      "view                1728331\n",
      "cart                 927124\n",
      "remove_from_cart     664655\n",
      "purchase             213176\n",
      "Name: event_type, dtype: int64\n"
     ]
    }
   ],
   "source": [
    "print(user_event_count)"
   ]
  },
  {
   "cell_type": "markdown",
   "id": "skilled-naples",
   "metadata": {},
   "source": [
    "### 计算用户流转链路中的总转化率"
   ]
  },
  {
   "cell_type": "code",
   "execution_count": 110,
   "id": "substantial-rough",
   "metadata": {},
   "outputs": [
    {
     "name": "stdout",
     "output_type": "stream",
     "text": [
      "浏览后加购率23.30%\n",
      "加购后付费率30.69%\n",
      "加购后移除率54.18%\n",
      "总uv中浏览人占比96.77%\n",
      "总uv中加购人占比22.55%\n",
      "总uv中购买人占比6.92%\n"
     ]
    }
   ],
   "source": [
    "# 计算总转化率（即默认用户先浏览后加购后购买）\n",
    "purchase_user=data[data.event_type=='purchase'].user_id.nunique()\n",
    "remove_user=data[data.event_type=='remove_from_cart'].user_id.nunique()\n",
    "print('浏览后加购率%.2f%%'%((cart_user/view_user)*100))\n",
    "print('加购后付费率%.2f%%'%((purchase_user/cart_user)*100))\n",
    "print('加购后移除率%.2f%%'%((remove_user/cart_user)*100))\n",
    "print('总uv中浏览人占比%.2f%%'%((view_user/total_uv)*100))\n",
    "print('总uv中加购人占比%.2f%%'%((cart_user/total_uv)*100))\n",
    "print('总uv中购买人占比%.2f%%'%((purchase_user/total_uv)*100))"
   ]
  },
  {
   "cell_type": "markdown",
   "id": "regulated-storage",
   "metadata": {},
   "source": [
    "## 小结：用户转化漏斗分析\n",
    "* ps此处的处理方式是由于①并未能保证用户均是按照理想链路流转，因此不能直接除以，需要合并求交叉值，并控制时间先后才能确保结果是我们所需的“精准”的流转链路。\n",
    "* 进一步释义：合并后的记录有630243条，这意味着有（927124-630243）位用户是未浏览详情页直接加购的，view2cart_user=52979，有（630243-52979）位用户不是在周期内形成view→cart完整链路的。\n",
    "* 层级转化率：浏览的人中有14.79%加购，加购的人中有30.17%付费，浏览的人中有5.94%直接付费。\n",
    "* 总转化率中用“模糊”形式得到了23.30%和30.69%，相对来说都是偏大的。\n",
    "* 总活跃用户中各种行为的uid占比，结合前方的层级转化可见，大部分用户还是停留在浏览的一个阶段，需要运营在该转化节点加力。对应举措（1）运营多多筹办积分活动、会员活动、促销活动等促使用户尽快加购付费；（2）用户增长可以拓展站外流量来源，增加点击量；（3）产品可以增加醒目的加购提醒或降价/秒杀消息通知等。"
   ]
  },
  {
   "cell_type": "code",
   "execution_count": null,
   "id": "spectacular-lucas",
   "metadata": {},
   "outputs": [],
   "source": []
  }
 ],
 "metadata": {
  "kernelspec": {
   "display_name": "Python 3",
   "language": "python",
   "name": "python3"
  },
  "language_info": {
   "codemirror_mode": {
    "name": "ipython",
    "version": 3
   },
   "file_extension": ".py",
   "mimetype": "text/x-python",
   "name": "python",
   "nbconvert_exporter": "python",
   "pygments_lexer": "ipython3",
   "version": "3.8.3"
  }
 },
 "nbformat": 4,
 "nbformat_minor": 5
}
