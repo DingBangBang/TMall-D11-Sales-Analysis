{
 "cells": [
  {
   "cell_type": "code",
   "execution_count": 1,
   "id": "legislative-value",
   "metadata": {},
   "outputs": [],
   "source": [
    "import pandas as pd\n",
    "import numpy as np\n",
    "import jieba"
   ]
  },
  {
   "cell_type": "code",
   "execution_count": 2,
   "id": "entitled-brother",
   "metadata": {},
   "outputs": [],
   "source": [
    "data=pd.read_csv(r'F:\\Test\\2019-Dec.csv',nrows=10000)"
   ]
  },
  {
   "cell_type": "code",
   "execution_count": 3,
   "id": "geographic-snapshot",
   "metadata": {},
   "outputs": [
    {
     "name": "stdout",
     "output_type": "stream",
     "text": [
      "                event_time        event_type  product_id          category_id  \\\n",
      "0  2019-12-01 00:00:00 UTC  remove_from_cart     5712790  1487580005268456287   \n",
      "1  2019-12-01 00:00:00 UTC              view     5764655  1487580005411062629   \n",
      "2  2019-12-01 00:00:02 UTC              cart        4958  1487580009471148064   \n",
      "3  2019-12-01 00:00:05 UTC              view     5848413  1487580007675986893   \n",
      "4  2019-12-01 00:00:07 UTC              view     5824148  1487580005511725929   \n",
      "\n",
      "  category_code      brand  price    user_id  \\\n",
      "0           NaN      f.o.x   6.27  576802932   \n",
      "1           NaN        cnd  29.05  412120092   \n",
      "2           NaN     runail   1.19  494077766   \n",
      "3           NaN  freedecor   0.79  348405118   \n",
      "4           NaN        NaN   5.56  576005683   \n",
      "\n",
      "                           user_session  \n",
      "0  51d85cb0-897f-48d2-918b-ad63965c12dc  \n",
      "1  8adff31e-2051-4894-9758-224bfa8aec18  \n",
      "2  c99a50e8-2fac-4c4d-89ec-41c05f114554  \n",
      "3  722ffea5-73c0-4924-8e8f-371ff8031af4  \n",
      "4  28172809-7e4a-45ce-bab0-5efa90117cd5  \n",
      "(10000, 9)\n",
      "<class 'pandas.core.frame.DataFrame'>\n",
      "RangeIndex: 10000 entries, 0 to 9999\n",
      "Data columns (total 9 columns):\n",
      " #   Column         Non-Null Count  Dtype  \n",
      "---  ------         --------------  -----  \n",
      " 0   event_time     10000 non-null  object \n",
      " 1   event_type     10000 non-null  object \n",
      " 2   product_id     10000 non-null  int64  \n",
      " 3   category_id    10000 non-null  int64  \n",
      " 4   category_code  143 non-null    object \n",
      " 5   brand          5587 non-null   object \n",
      " 6   price          10000 non-null  float64\n",
      " 7   user_id        10000 non-null  int64  \n",
      " 8   user_session   9991 non-null   object \n",
      "dtypes: float64(1), int64(3), object(5)\n",
      "memory usage: 703.2+ KB\n",
      "None\n"
     ]
    }
   ],
   "source": [
    "print(data.head())\n",
    "print(data.shape)\n",
    "print(data.info())"
   ]
  },
  {
   "cell_type": "code",
   "execution_count": 4,
   "id": "german-storm",
   "metadata": {},
   "outputs": [
    {
     "name": "stdout",
     "output_type": "stream",
     "text": [
      "576802932    699\n",
      "580053614    253\n",
      "580047208    179\n",
      "579751441    121\n",
      "476577170    103\n",
      "            ... \n",
      "580067601      1\n",
      "524330889      1\n",
      "580029658      1\n",
      "571393243      1\n",
      "547096575      1\n",
      "Name: user_id, Length: 1450, dtype: int64\n",
      "total_uv=1450\n",
      "total_pv=10000\n"
     ]
    }
   ],
   "source": [
    "total_uv=data['user_id'].value_counts()\n",
    "print(total_uv)\n",
    "total_uv=len(total_uv)\n",
    "print('total_uv='+str(total_uv))\n",
    "total_pv=len(data['user_id'])\n",
    "print('total_pv='+str(total_pv))"
   ]
  },
  {
   "cell_type": "code",
   "execution_count": 5,
   "id": "baking-hampton",
   "metadata": {},
   "outputs": [
    {
     "data": {
      "text/plain": [
       "event_time       False\n",
       "event_type       False\n",
       "product_id       False\n",
       "category_id      False\n",
       "category_code     True\n",
       "brand             True\n",
       "price            False\n",
       "user_id          False\n",
       "user_session      True\n",
       "dtype: bool"
      ]
     },
     "execution_count": 5,
     "metadata": {},
     "output_type": "execute_result"
    }
   ],
   "source": [
    "data.isnull().any()"
   ]
  },
  {
   "cell_type": "code",
   "execution_count": 6,
   "id": "chinese-velvet",
   "metadata": {},
   "outputs": [
    {
     "data": {
      "text/html": [
       "<div>\n",
       "<style scoped>\n",
       "    .dataframe tbody tr th:only-of-type {\n",
       "        vertical-align: middle;\n",
       "    }\n",
       "\n",
       "    .dataframe tbody tr th {\n",
       "        vertical-align: top;\n",
       "    }\n",
       "\n",
       "    .dataframe thead th {\n",
       "        text-align: right;\n",
       "    }\n",
       "</style>\n",
       "<table border=\"1\" class=\"dataframe\">\n",
       "  <thead>\n",
       "    <tr style=\"text-align: right;\">\n",
       "      <th></th>\n",
       "      <th>product_id</th>\n",
       "      <th>category_id</th>\n",
       "      <th>price</th>\n",
       "      <th>user_id</th>\n",
       "    </tr>\n",
       "  </thead>\n",
       "  <tbody>\n",
       "    <tr>\n",
       "      <th>count</th>\n",
       "      <td>1.000000e+04</td>\n",
       "      <td>1.000000e+04</td>\n",
       "      <td>10000.000000</td>\n",
       "      <td>1.000000e+04</td>\n",
       "    </tr>\n",
       "    <tr>\n",
       "      <th>mean</th>\n",
       "      <td>5.417262e+06</td>\n",
       "      <td>1.554185e+18</td>\n",
       "      <td>8.451937</td>\n",
       "      <td>5.201388e+08</td>\n",
       "    </tr>\n",
       "    <tr>\n",
       "      <th>std</th>\n",
       "      <td>1.441545e+06</td>\n",
       "      <td>1.729323e+17</td>\n",
       "      <td>19.189618</td>\n",
       "      <td>8.002509e+07</td>\n",
       "    </tr>\n",
       "    <tr>\n",
       "      <th>min</th>\n",
       "      <td>3.762000e+03</td>\n",
       "      <td>1.487580e+18</td>\n",
       "      <td>0.000000</td>\n",
       "      <td>6.994870e+07</td>\n",
       "    </tr>\n",
       "    <tr>\n",
       "      <th>25%</th>\n",
       "      <td>5.728072e+06</td>\n",
       "      <td>1.487580e+18</td>\n",
       "      <td>1.730000</td>\n",
       "      <td>4.784334e+08</td>\n",
       "    </tr>\n",
       "    <tr>\n",
       "      <th>50%</th>\n",
       "      <td>5.814050e+06</td>\n",
       "      <td>1.487580e+18</td>\n",
       "      <td>3.970000</td>\n",
       "      <td>5.575163e+08</td>\n",
       "    </tr>\n",
       "    <tr>\n",
       "      <th>75%</th>\n",
       "      <td>5.861602e+06</td>\n",
       "      <td>1.487580e+18</td>\n",
       "      <td>6.350000</td>\n",
       "      <td>5.791791e+08</td>\n",
       "    </tr>\n",
       "    <tr>\n",
       "      <th>max</th>\n",
       "      <td>5.909244e+06</td>\n",
       "      <td>2.235524e+18</td>\n",
       "      <td>327.780000</td>\n",
       "      <td>5.800703e+08</td>\n",
       "    </tr>\n",
       "  </tbody>\n",
       "</table>\n",
       "</div>"
      ],
      "text/plain": [
       "         product_id   category_id         price       user_id\n",
       "count  1.000000e+04  1.000000e+04  10000.000000  1.000000e+04\n",
       "mean   5.417262e+06  1.554185e+18      8.451937  5.201388e+08\n",
       "std    1.441545e+06  1.729323e+17     19.189618  8.002509e+07\n",
       "min    3.762000e+03  1.487580e+18      0.000000  6.994870e+07\n",
       "25%    5.728072e+06  1.487580e+18      1.730000  4.784334e+08\n",
       "50%    5.814050e+06  1.487580e+18      3.970000  5.575163e+08\n",
       "75%    5.861602e+06  1.487580e+18      6.350000  5.791791e+08\n",
       "max    5.909244e+06  2.235524e+18    327.780000  5.800703e+08"
      ]
     },
     "execution_count": 6,
     "metadata": {},
     "output_type": "execute_result"
    }
   ],
   "source": [
    "data.describe()"
   ]
  },
  {
   "cell_type": "code",
   "execution_count": 7,
   "id": "southeast-april",
   "metadata": {},
   "outputs": [],
   "source": [
    "#删除无效列\n",
    "data.drop('category_code',axis=1,inplace=True)"
   ]
  },
  {
   "cell_type": "code",
   "execution_count": 8,
   "id": "separate-parking",
   "metadata": {},
   "outputs": [
    {
     "name": "stdout",
     "output_type": "stream",
     "text": [
      "total_gmv=84519.37\n"
     ]
    }
   ],
   "source": [
    "#总成交额/gmv（不考虑退货退款）\n",
    "total_gmv=data['price'].sum()\n",
    "print('total_gmv='+str(total_gmv))"
   ]
  },
  {
   "cell_type": "code",
   "execution_count": 54,
   "id": "artistic-marsh",
   "metadata": {},
   "outputs": [
    {
     "name": "stdout",
     "output_type": "stream",
     "text": [
      "total_order=59\n"
     ]
    }
   ],
   "source": [
    "#总成交量\n",
    "total_order=len(data[data.event_type=='purchase']['user_session'].value_counts())\n",
    "print('total_order='+str(total_order))"
   ]
  },
  {
   "cell_type": "code",
   "execution_count": 10,
   "id": "published-church",
   "metadata": {},
   "outputs": [
    {
     "name": "stdout",
     "output_type": "stream",
     "text": [
      "view                4401\n",
      "cart                2888\n",
      "remove_from_cart    2034\n",
      "purchase             677\n",
      "Name: event_type, dtype: int64\n",
      "<class 'pandas.core.series.Series'>\n"
     ]
    }
   ],
   "source": [
    "#购买行为分类统计\n",
    "user_event_count=data['event_type'].value_counts()\n",
    "print(user_event_count)\n",
    "print(type(user_event_count))"
   ]
  },
  {
   "cell_type": "code",
   "execution_count": 11,
   "id": "numerical-category",
   "metadata": {},
   "outputs": [],
   "source": [
    "#view2cart=data[data.event_type]"
   ]
  },
  {
   "cell_type": "code",
   "execution_count": 29,
   "id": "respected-metropolitan",
   "metadata": {},
   "outputs": [
    {
     "name": "stdout",
     "output_type": "stream",
     "text": [
      "paid_user=59\n",
      "total_paid_rate=4.07%\n"
     ]
    }
   ],
   "source": [
    "#成交率\n",
    "paid_user=data[data.event_type=='purchase'].nunique()['user_id']\n",
    "print('paid_user='+str('%.0f'%paid_user))\n",
    "total_paid_rate=(paid_user/total_uv)*100\n",
    "print('total_paid_rate='+str('%.2f'%total_paid_rate)+'%')"
   ]
  },
  {
   "cell_type": "code",
   "execution_count": 13,
   "id": "accompanied-bermuda",
   "metadata": {},
   "outputs": [],
   "source": [
    "import matplotlib.pyplot as plt\n",
    "import matplotlib.ticker as ticker"
   ]
  },
  {
   "cell_type": "code",
   "execution_count": 14,
   "id": "welsh-currency",
   "metadata": {},
   "outputs": [
    {
     "data": {
      "text/plain": [
       "Text(0.5, 1.0, 'user_buy_time')"
      ]
     },
     "execution_count": 14,
     "metadata": {},
     "output_type": "execute_result"
    },
    {
     "data": {
      "image/png": "[encoded data removed]",
      "text/plain": [
       "<Figure size 432x288 with 1 Axes>"
      ]
     },
     "metadata": {
      "needs_background": "light"
     },
     "output_type": "display_data"
    }
   ],
   "source": [
    "#用户购买次数分布\n",
    "user_buy_time=data[data.event_type=='purchase'].groupby('user_id').count()['product_id'] #output Series\n",
    "plt.hist(x=user_buy_time,bins=10,range=[0,100])\n",
    "plt.xlabel('buy_time')\n",
    "plt.ylabel('user_number')\n",
    "plt.title('user_buy_time')"
   ]
  },
  {
   "cell_type": "code",
   "execution_count": 15,
   "id": "neutral-pantyhose",
   "metadata": {},
   "outputs": [
    {
     "name": "stdout",
     "output_type": "stream",
     "text": [
      "per_user_buy_time=11.47\n"
     ]
    }
   ],
   "source": [
    "#人均购买次数\n",
    "total_buy_time=data[data.event_type=='purchase'].count()['user_id']\n",
    "per_user_buy_time=total_buy_time/paid_user\n",
    "print('per_user_buy_time='+str('%.2f'%per_user_buy_time))"
   ]
  },
  {
   "cell_type": "code",
   "execution_count": 16,
   "id": "anonymous-woman",
   "metadata": {},
   "outputs": [
    {
     "name": "stdout",
     "output_type": "stream",
     "text": [
      "rebuy_rate=91.53%\n"
     ]
    }
   ],
   "source": [
    "#复购率（购买次数在2次及以上的人数/有过购买记录的人数）\n",
    "twice_buy_user=user_buy_time[user_buy_time>2].count()\n",
    "twice_buy_user\n",
    "rebuy_rate=(twice_buy_user/paid_user)*100\n",
    "print('rebuy_rate='+str('%.2f'%rebuy_rate)+'%')\n",
    "# print(\"复购率:{:.2f}%\".format(repurchase_rate*100))"
   ]
  },
  {
   "cell_type": "markdown",
   "id": "expected-burden",
   "metadata": {},
   "source": [
    "## 小结:总体流量指标诊断\n",
    "* 取前1w行进行预分析，总体指标情况如下：total_uv=1450，total_pv=10000，max_price=327.78，total_gmv=84519.37，total_order=59，total_paid_rate=4.07%，per_user_buy_time=11.47，rebuy_rate=91.53%\n",
    "* 用户购买次数分布显示，大多分布在0-10次区间内；10-20次区间内的用户价值有待进一步挖掘；30次以上的用户可被认定为“忠诚会员”提供1V1服务\n",
    "* 复购率高达91.53%，人均购买11.47次，说明该平台用户忠诚度较高"
   ]
  },
  {
   "cell_type": "code",
   "execution_count": 17,
   "id": "funny-collaboration",
   "metadata": {},
   "outputs": [],
   "source": [
    "#跳失率:只有点击行为的人数/总用户数total_uv\n",
    "# user_view_time=data[data.event_type=='view'].groupby('user_id').count()['product_id']\n",
    "# dict_user_view_time={'user_id':user_view_time.index,'times':user_view_time.values}\n",
    "# total_uv=data['user_id'].value_counts()\n",
    "# dict_total_uv={'user_id':total_uv.index,'times':total_uv.values}\n",
    "# print(dict_user_view_time,dict_total_uv)\n",
    "# only_view_user=pd.Series(list(set(user_view_time).index.intersection(set(total_uv).index)))\n",
    "#series.value_counts()[0]（最高的频数） or series.value_counts().index[0]（频数最高的键）\n",
    "# only_view_user=[]\n",
    "# for i in dict_user_view_time.keys():\n",
    "#     if i in dict_total_uv.keys():\n",
    "#         only_view_user.append(i)\n",
    "#     else:\n",
    "#         break\n",
    "# print(only_view_user)\n",
    "# print(user_view_time,user_event_time)\n",
    "# # 计算跳失率\n",
    "# bounce_rate=only_pv_user.shape[0]/total_unique_users\n",
    "# print(\"跳失率:{:.2f}%\".format(bounce_rate*100))"
   ]
  },
  {
   "cell_type": "code",
   "execution_count": 21,
   "id": "correct-provider",
   "metadata": {},
   "outputs": [],
   "source": [
    "date=[]\n",
    "hour=[]\n",
    "\n",
    "for i in range(0,10000):\n",
    "    split_time=str(data['event_time'][i]).split(' ')\n",
    "    for a in split_time:\n",
    "        if \"-\" in a:\n",
    "            date.append(a)\n",
    "        elif \":\" in a:\n",
    "            hour.append(a)\n",
    "#print(date,hour)"
   ]
  },
  {
   "cell_type": "code",
   "execution_count": 19,
   "id": "neither-mapping",
   "metadata": {},
   "outputs": [
    {
     "name": "stdout",
     "output_type": "stream",
     "text": [
      "0     2019-12-01\n",
      "1     2019-12-01\n",
      "2     2019-12-01\n",
      "3     2019-12-01\n",
      "4     2019-12-01\n",
      "         ...    \n",
      "95    2019-12-01\n",
      "96    2019-12-01\n",
      "97    2019-12-01\n",
      "98    2019-12-01\n",
      "99    2019-12-01\n",
      "Name: date, Length: 100, dtype: object\n"
     ]
    }
   ],
   "source": [
    "data['date']=date\n",
    "data['hour']=hour\n",
    "# del data['event_time']\n",
    "print(data['date'].head(100))"
   ]
  },
  {
   "cell_type": "code",
   "execution_count": 20,
   "id": "eastern-attribute",
   "metadata": {},
   "outputs": [
    {
     "name": "stdout",
     "output_type": "stream",
     "text": [
      "date\n",
      "2019-12-01    10000\n",
      "Name: user_id, dtype: int64\n"
     ]
    }
   ],
   "source": [
    "# 月上中下旬-流量指标\n",
    "# daily_pv=data.groupby('date')['user_id'].count().reset_index().rename(columns={'user_id':'pv'})\n",
    "# daily_uv=data.groupby('date').nunique()['user_id'].reset_index().rename(columns={'user_id':'uv'})\n",
    "# print(daily_pv,daily_uv)"
   ]
  },
  {
   "cell_type": "code",
   "execution_count": 22,
   "id": "warming-attitude",
   "metadata": {},
   "outputs": [],
   "source": [
    "#由于数据量只取1w行，前1w行的日期仍未超过12-01，故时间曲线暂时画不出\n",
    "# fig,axes=plt.subplot(2,1,figsize=(12,8),sharex=True)\n",
    "# daily_pv.plot(x='date',y='pv',ax=axes[0])\n",
    "# daily_uv.plot(x='date',y='uv',ax=axes[1])\n",
    "# axes[0].set_title('daily_pv')\n",
    "# axes[1].set_title('daily_uv')"
   ]
  },
  {
   "cell_type": "code",
   "execution_count": null,
   "id": "organized-agenda",
   "metadata": {},
   "outputs": [],
   "source": [
    "#天早中晚上-流量指标\n",
    "# pv_hour=data[data.behavior_type==1].groupby('hour').count()['user_id'].reset_index(drop=True).rename(columns={'user_id':'pv'})\n",
    "# uv_hour=data.groupby('hour').nunique()['user_id'].reset_index(drop=True).rename(columns={'user_id':'uv'})"
   ]
  },
  {
   "cell_type": "code",
   "execution_count": null,
   "id": "corrected-david",
   "metadata": {},
   "outputs": [],
   "source": [
    "# fig,axes=plt.subplots(2,1,figsize=(12,8),sharex=True)\n",
    "# pv_hour.plot(ax=axes[0])\n",
    "# uv_hour.plot(ax=axes[1])\n",
    "# axes[0].set_title('pv_hour')\n",
    "# axes[1].set_title('uv_hour')\n",
    "# axes[0].xaxis.set_minor_locator(ticker.MultipleLocator(1))\n",
    "# axes[1].xaxis.set_minor_locator(ticker.MultipleLocator(1))"
   ]
  },
  {
   "cell_type": "code",
   "execution_count": 55,
   "id": "scenic-trial",
   "metadata": {},
   "outputs": [
    {
     "name": "stdout",
     "output_type": "stream",
     "text": [
      "mean_daily_pv=10000.00\n",
      "mean_daily_uv=1450.00\n",
      "mean_daily_gmv=84519.37\n",
      "mean_daily_order=59\n",
      "mean_daily_paid_user=59\n",
      "mean_daily_paid_rate=4.07%\n",
      "mean_daily_ARPU=58.29\n",
      "mean_daily_ARPPU=1432.53\n"
     ]
    }
   ],
   "source": [
    "mean_daily_pv=data.groupby('date')['user_id'].count().mean()\n",
    "print('mean_daily_pv='+str('%.2f'%mean_daily_pv))\n",
    "mean_daily_uv=data.groupby('date').nunique()['user_id'].mean()\n",
    "print('mean_daily_uv='+str('%.2f'%mean_daily_uv))\n",
    "mean_daily_gmv=data.groupby('date')['price'].sum().mean()\n",
    "print('mean_daily_gmv='+str('%.2f'%mean_daily_gmv))\n",
    "mean_daily_order=data[data.event_type=='purchase'].groupby('date').nunique()['user_session'].values.mean() #series.values访问频数，.index访问索引\n",
    "print('mean_daily_order='+str('%.0f'%mean_daily_order))\n",
    "mean_daily_paid_user=data[data.event_type=='purchase'].groupby('date').nunique()['user_id'].mean()\n",
    "print('mean_daily_paid_user='+str('%.0f'%mean_daily_paid_user))\n",
    "mean_daily_paid_rate=(mean_daily_paid_user/mean_daily_uv)*100\n",
    "print('mean_daily_paid_rate='+str('%.2f'%mean_daily_paid_rate)+'%')\n",
    "mean_daily_ARPU=(mean_daily_gmv/mean_daily_uv)\n",
    "print('mean_daily_ARPU='+str('%.2f'%mean_daily_ARPU))\n",
    "mean_daily_ARPPU=(mean_daily_gmv/mean_daily_paid_user)\n",
    "print('mean_daily_ARPPU='+str('%.2f'%mean_daily_ARPPU))"
   ]
  },
  {
   "cell_type": "markdown",
   "id": "coordinate-credit",
   "metadata": {},
   "source": [
    "## 小结：用户消费行为总览（按日维度）\n",
    "* 总体指标总览\n",
    "mean_daily_pv=10000.00\n",
    "mean_daily_uv=1450.00\n",
    "mean_daily_gmv=84519.37\n",
    "mean_daily_order=59\n",
    "mean_daily_paid_user=59\n",
    "mean_daily_paid_rate=4.07%\n",
    "mean_daily_ARPU=58.29\n",
    "mean_daily_ARPPU=1432.53\n",
    "* 从daily_pv&daily_uv图表可以看出，该月内用户量、访问量整体呈现缓慢攀升的趋势，在双十二达到峰值\n",
    "* 从hourly_pv&hourly_uv图表可以看出，总体来看23:00与次日5:00的访问量在下降，5:00后开始回升至正常水平，18:00-22:00访问量有明显提升，并在21:00-22:00达到峰值，用户量的趋势类似但不那么明显；区分用户活跃时段，一般活跃时段及非活跃时段"
   ]
  }
 ],
 "metadata": {
  "kernelspec": {
   "display_name": "Python 3",
   "language": "python",
   "name": "python3"
  },
  "language_info": {
   "codemirror_mode": {
    "name": "ipython",
    "version": 3
   },
   "file_extension": ".py",
   "mimetype": "text/x-python",
   "name": "python",
   "nbconvert_exporter": "python",
   "pygments_lexer": "ipython3",
   "version": "3.8.3"
  }
 },
 "nbformat": 4,
 "nbformat_minor": 5
}
